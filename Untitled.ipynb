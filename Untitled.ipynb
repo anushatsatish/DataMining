{
 "cells": [
  {
   "cell_type": "code",
   "execution_count": 1,
   "metadata": {},
   "outputs": [
    {
     "ename": "SyntaxError",
     "evalue": "invalid syntax (<ipython-input-1-0eb40b5f7799>, line 5)",
     "output_type": "error",
     "traceback": [
      "\u001b[0;36m  File \u001b[0;32m\"<ipython-input-1-0eb40b5f7799>\"\u001b[0;36m, line \u001b[0;32m5\u001b[0m\n\u001b[0;31m    Movie_Genres = Movie_data$genres\u001b[0m\n\u001b[0m                             ^\u001b[0m\n\u001b[0;31mSyntaxError\u001b[0m\u001b[0;31m:\u001b[0m invalid syntax\n"
     ]
    }
   ],
   "source": [
    "# import Pandas as pd \n",
    "import pandas as pd \n",
    "\n",
    "\n",
    "Movie_Genres = Movie_data$genres\n",
    "Movie_Genres = as.data.frame(Movie_Genres, stringsAsFactors=FALSE)\n",
    "\n",
    "df=pd.read_csv('W11_zoo.csv')\n",
    "display('Data Example:',HTML(df_knn.head(10).to_html()))\n"
   ]
  },
  {
   "cell_type": "code",
   "execution_count": null,
   "metadata": {},
   "outputs": [],
   "source": []
  }
 ],
 "metadata": {
  "kernelspec": {
   "display_name": "Python 3",
   "language": "python",
   "name": "python3"
  },
  "language_info": {
   "codemirror_mode": {
    "name": "ipython",
    "version": 3
   },
   "file_extension": ".py",
   "mimetype": "text/x-python",
   "name": "python",
   "nbconvert_exporter": "python",
   "pygments_lexer": "ipython3",
   "version": "3.7.4"
  }
 },
 "nbformat": 4,
 "nbformat_minor": 2
}
